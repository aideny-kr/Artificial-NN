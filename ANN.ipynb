{
 "cells": [
  {
   "cell_type": "code",
   "execution_count": 44,
   "metadata": {},
   "outputs": [],
   "source": [
    "# Importing the libraries\n",
    "import numpy as np\n",
    "import matplotlib.pyplot as plt\n",
    "import pandas as pd\n",
    "\n",
    "# Importing the dataset\n",
    "dataset = pd.read_csv('Churn_Modelling.csv')\n",
    "X = dataset.iloc[:, 3: 13].values\n",
    "y = dataset.iloc[:, 13].values\n"
   ]
  },
  {
   "cell_type": "code",
   "execution_count": 45,
   "metadata": {},
   "outputs": [
    {
     "data": {
      "text/plain": [
       "array(['Female', 'Female', 'Female', ..., 'Female', 'Male', 'Female'], dtype=object)"
      ]
     },
     "execution_count": 45,
     "metadata": {},
     "output_type": "execute_result"
    }
   ],
   "source": [
    "X[:, 2]"
   ]
  },
  {
   "cell_type": "code",
   "execution_count": 46,
   "metadata": {
    "collapsed": true
   },
   "outputs": [],
   "source": [
    "from sklearn.preprocessing import LabelEncoder, OneHotEncoder"
   ]
  },
  {
   "cell_type": "code",
   "execution_count": 47,
   "metadata": {
    "collapsed": true
   },
   "outputs": [],
   "source": [
    "labelencoder_X1 = LabelEncoder() \n",
    "X[:, 1] = labelencoder_X1.fit_transform(X[:, 1])"
   ]
  },
  {
   "cell_type": "code",
   "execution_count": 48,
   "metadata": {},
   "outputs": [],
   "source": [
    "labelencoder_X2 = LabelEncoder() \n",
    "X[:, 2] = labelencoder_X2.fit_transform(X[:, 2])"
   ]
  },
  {
   "cell_type": "code",
   "execution_count": 53,
   "metadata": {},
   "outputs": [
    {
     "data": {
      "text/plain": [
       "array([[619, 0, 0, 42, 2, 0.0, 1, 1, 1, 101348.88],\n",
       "       [608, 2, 0, 41, 1, 83807.86, 1, 0, 1, 112542.58],\n",
       "       [502, 0, 0, 42, 8, 159660.8, 3, 1, 0, 113931.57],\n",
       "       [699, 0, 0, 39, 1, 0.0, 2, 0, 0, 93826.63],\n",
       "       [850, 2, 0, 43, 2, 125510.82, 1, 1, 1, 79084.1],\n",
       "       [645, 2, 1, 44, 8, 113755.78, 2, 1, 0, 149756.71],\n",
       "       [822, 0, 1, 50, 7, 0.0, 2, 1, 1, 10062.8],\n",
       "       [376, 1, 0, 29, 4, 115046.74, 4, 1, 0, 119346.88],\n",
       "       [501, 0, 1, 44, 4, 142051.07, 2, 0, 1, 74940.5],\n",
       "       [684, 0, 1, 27, 2, 134603.88, 1, 1, 1, 71725.73]], dtype=object)"
      ]
     },
     "execution_count": 53,
     "metadata": {},
     "output_type": "execute_result"
    }
   ],
   "source": [
    "X[:10]"
   ]
  },
  {
   "cell_type": "code",
   "execution_count": 54,
   "metadata": {
    "collapsed": true
   },
   "outputs": [],
   "source": [
    "onehotencoder = OneHotEncoder(categorical_features= [1])\n",
    "X = onehotencoder.fit_transform(X).toarray()"
   ]
  },
  {
   "cell_type": "code",
   "execution_count": 65,
   "metadata": {},
   "outputs": [],
   "source": [
    "#\n",
    "X = X[:, 1:]"
   ]
  },
  {
   "cell_type": "code",
   "execution_count": 66,
   "metadata": {},
   "outputs": [
    {
     "data": {
      "text/plain": [
       "array([[  0.00e+00,   0.00e+00,   6.19e+02, ...,   1.00e+00,   1.00e+00,\n",
       "          1.01e+05],\n",
       "       [  0.00e+00,   1.00e+00,   6.08e+02, ...,   0.00e+00,   1.00e+00,\n",
       "          1.13e+05],\n",
       "       [  0.00e+00,   0.00e+00,   5.02e+02, ...,   1.00e+00,   0.00e+00,\n",
       "          1.14e+05],\n",
       "       ..., \n",
       "       [  0.00e+00,   0.00e+00,   7.09e+02, ...,   0.00e+00,   1.00e+00,\n",
       "          4.21e+04],\n",
       "       [  1.00e+00,   0.00e+00,   7.72e+02, ...,   1.00e+00,   0.00e+00,\n",
       "          9.29e+04],\n",
       "       [  0.00e+00,   0.00e+00,   7.92e+02, ...,   1.00e+00,   0.00e+00,\n",
       "          3.82e+04]])"
      ]
     },
     "execution_count": 66,
     "metadata": {},
     "output_type": "execute_result"
    }
   ],
   "source": [
    "X"
   ]
  },
  {
   "cell_type": "code",
   "execution_count": 68,
   "metadata": {},
   "outputs": [],
   "source": [
    "from sklearn.model_selection import train_test_split\n",
    "X_train, X_test, y_train, y_test = train_test_split(X, y, test_size=0.25, random_state = 0)"
   ]
  },
  {
   "cell_type": "code",
   "execution_count": 69,
   "metadata": {
    "collapsed": true
   },
   "outputs": [],
   "source": [
    "# Feature Scaling\n",
    "from sklearn.preprocessing import StandardScaler\n",
    "sc = StandardScaler()"
   ]
  },
  {
   "cell_type": "code",
   "execution_count": 70,
   "metadata": {
    "collapsed": true
   },
   "outputs": [],
   "source": [
    "X_train = sc.fit_transform(X_train)\n",
    "X_test = sc.transform(X_test)"
   ]
  },
  {
   "cell_type": "markdown",
   "metadata": {},
   "source": [
    "##PART2 Build ARR"
   ]
  },
  {
   "cell_type": "code",
   "execution_count": 72,
   "metadata": {},
   "outputs": [
    {
     "name": "stderr",
     "output_type": "stream",
     "text": [
      "Using TensorFlow backend.\n"
     ]
    }
   ],
   "source": [
    "#importing keras\n",
    "import keras"
   ]
  },
  {
   "cell_type": "code",
   "execution_count": 73,
   "metadata": {
    "collapsed": true
   },
   "outputs": [],
   "source": [
    "from keras.models import Sequential\n",
    "from keras.layers import Dense"
   ]
  },
  {
   "cell_type": "code",
   "execution_count": 74,
   "metadata": {
    "collapsed": true
   },
   "outputs": [],
   "source": [
    "# Initializing the ANN\n",
    "classifier = Sequential()"
   ]
  },
  {
   "cell_type": "code",
   "execution_count": 77,
   "metadata": {},
   "outputs": [
    {
     "name": "stderr",
     "output_type": "stream",
     "text": [
      "/Users/aidenyi/anaconda/envs/tensorflow/lib/python3.5/site-packages/ipykernel_launcher.py:2: UserWarning: Update your `Dense` call to the Keras 2 API: `Dense(units=6, activation=\"relu\", input_dim=11, kernel_initializer=\"uniform\")`\n",
      "  \n"
     ]
    }
   ],
   "source": [
    "# Adding the input layer and the first hidden layer\n",
    "classifier.add(Dense(output_dim=6, init='uniform', activation='relu', input_dim=11))"
   ]
  },
  {
   "cell_type": "code",
   "execution_count": 78,
   "metadata": {},
   "outputs": [
    {
     "name": "stderr",
     "output_type": "stream",
     "text": [
      "/Users/aidenyi/anaconda/envs/tensorflow/lib/python3.5/site-packages/ipykernel_launcher.py:2: UserWarning: Update your `Dense` call to the Keras 2 API: `Dense(units=6, activation=\"relu\", kernel_initializer=\"uniform\")`\n",
      "  \n"
     ]
    }
   ],
   "source": [
    "# Adding the second layer\n",
    "classifier.add(Dense(output_dim=6, init='uniform', activation='relu'))"
   ]
  },
  {
   "cell_type": "code",
   "execution_count": 79,
   "metadata": {},
   "outputs": [
    {
     "name": "stderr",
     "output_type": "stream",
     "text": [
      "/Users/aidenyi/anaconda/envs/tensorflow/lib/python3.5/site-packages/ipykernel_launcher.py:2: UserWarning: Update your `Dense` call to the Keras 2 API: `Dense(units=1, activation=\"sigmoid\", kernel_initializer=\"uniform\")`\n",
      "  \n"
     ]
    }
   ],
   "source": [
    "# Adding the output layer\n",
    "classifier.add(Dense(output_dim=1, init='uniform', activation='sigmoid'))"
   ]
  },
  {
   "cell_type": "code",
   "execution_count": 80,
   "metadata": {
    "collapsed": true
   },
   "outputs": [],
   "source": [
    "# Compiling the ANN\n",
    "classifier.compile(optimizer='adam', loss='binary_crossentropy', metrics=['accuracy'])"
   ]
  },
  {
   "cell_type": "code",
   "execution_count": 84,
   "metadata": {},
   "outputs": [
    {
     "name": "stdout",
     "output_type": "stream",
     "text": [
      "Epoch 1/20\n",
      "7500/7500 [==============================] - 0s - loss: 0.3905 - acc: 0.8371     \n",
      "Epoch 2/20\n",
      "7500/7500 [==============================] - 0s - loss: 0.3905 - acc: 0.8361     \n",
      "Epoch 3/20\n",
      "7500/7500 [==============================] - 0s - loss: 0.3905 - acc: 0.8380     \n",
      "Epoch 4/20\n",
      "7500/7500 [==============================] - 0s - loss: 0.3906 - acc: 0.8361     \n",
      "Epoch 5/20\n",
      "7500/7500 [==============================] - 0s - loss: 0.3906 - acc: 0.8373     \n",
      "Epoch 6/20\n",
      "7500/7500 [==============================] - 0s - loss: 0.3905 - acc: 0.8371     \n",
      "Epoch 7/20\n",
      "7500/7500 [==============================] - 0s - loss: 0.3903 - acc: 0.8371     \n",
      "Epoch 8/20\n",
      "7500/7500 [==============================] - 0s - loss: 0.3906 - acc: 0.8364     \n",
      "Epoch 9/20\n",
      "7500/7500 [==============================] - 0s - loss: 0.3905 - acc: 0.8372     \n",
      "Epoch 10/20\n",
      "7500/7500 [==============================] - 0s - loss: 0.3903 - acc: 0.8372     - ETA: 0s - loss: 0.4048 \n",
      "Epoch 11/20\n",
      "7500/7500 [==============================] - 0s - loss: 0.3905 - acc: 0.8361     \n",
      "Epoch 12/20\n",
      "7500/7500 [==============================] - 0s - loss: 0.3904 - acc: 0.8373     \n",
      "Epoch 13/20\n",
      "7500/7500 [==============================] - 0s - loss: 0.3909 - acc: 0.8363     \n",
      "Epoch 14/20\n",
      "7500/7500 [==============================] - 0s - loss: 0.3904 - acc: 0.8384     \n",
      "Epoch 15/20\n",
      "7500/7500 [==============================] - 0s - loss: 0.3907 - acc: 0.8371     \n",
      "Epoch 16/20\n",
      "7500/7500 [==============================] - 0s - loss: 0.3902 - acc: 0.8368     \n",
      "Epoch 17/20\n",
      "7500/7500 [==============================] - 0s - loss: 0.3906 - acc: 0.8373     \n",
      "Epoch 18/20\n",
      "7500/7500 [==============================] - 0s - loss: 0.3905 - acc: 0.8364     \n",
      "Epoch 19/20\n",
      "7500/7500 [==============================] - 0s - loss: 0.3906 - acc: 0.8376     \n",
      "Epoch 20/20\n",
      "7500/7500 [==============================] - 0s - loss: 0.3904 - acc: 0.8373     \n"
     ]
    },
    {
     "data": {
      "text/plain": [
       "<keras.callbacks.History at 0x140b33c88>"
      ]
     },
     "execution_count": 84,
     "metadata": {},
     "output_type": "execute_result"
    }
   ],
   "source": [
    "# Fitting the ANN to the Training set\n",
    "classifier.fit(X_train, y_train, batch_size=64, epochs=20)"
   ]
  },
  {
   "cell_type": "code",
   "execution_count": 85,
   "metadata": {
    "collapsed": true
   },
   "outputs": [],
   "source": [
    "y_pred = classifier.predict(X_test)"
   ]
  },
  {
   "cell_type": "code",
   "execution_count": 88,
   "metadata": {},
   "outputs": [
    {
     "data": {
      "text/plain": [
       "array([[ 0.19],\n",
       "       [ 0.39],\n",
       "       [ 0.18],\n",
       "       [ 0.08],\n",
       "       [ 0.12],\n",
       "       [ 0.89],\n",
       "       [ 0.06],\n",
       "       [ 0.17],\n",
       "       [ 0.12],\n",
       "       [ 0.95]], dtype=float32)"
      ]
     },
     "execution_count": 88,
     "metadata": {},
     "output_type": "execute_result"
    }
   ],
   "source": [
    "y_pred[:10]"
   ]
  },
  {
   "cell_type": "code",
   "execution_count": 89,
   "metadata": {
    "collapsed": true
   },
   "outputs": [],
   "source": [
    "y_pred = (y_pred > 0.5)"
   ]
  },
  {
   "cell_type": "code",
   "execution_count": 92,
   "metadata": {},
   "outputs": [
    {
     "data": {
      "text/plain": [
       "array([[False],\n",
       "       [False],\n",
       "       [False],\n",
       "       [False],\n",
       "       [False],\n",
       "       [ True],\n",
       "       [False],\n",
       "       [False],\n",
       "       [False],\n",
       "       [ True],\n",
       "       [False],\n",
       "       [False],\n",
       "       [False],\n",
       "       [False],\n",
       "       [ True]], dtype=bool)"
      ]
     },
     "execution_count": 92,
     "metadata": {},
     "output_type": "execute_result"
    }
   ],
   "source": [
    "y_pred[:15]"
   ]
  },
  {
   "cell_type": "code",
   "execution_count": 90,
   "metadata": {},
   "outputs": [],
   "source": [
    "# Making the confusion matrix\n",
    "from sklearn.metrics import confusion_matrix\n",
    "cm = confusion_matrix(y_test, y_pred)"
   ]
  },
  {
   "cell_type": "code",
   "execution_count": 91,
   "metadata": {},
   "outputs": [
    {
     "data": {
      "text/plain": [
       "array([[1922,   69],\n",
       "       [ 325,  184]])"
      ]
     },
     "execution_count": 91,
     "metadata": {},
     "output_type": "execute_result"
    }
   ],
   "source": [
    "cm"
   ]
  },
  {
   "cell_type": "code",
   "execution_count": 94,
   "metadata": {},
   "outputs": [
    {
     "data": {
      "text/plain": [
       "0.8424"
      ]
     },
     "execution_count": 94,
     "metadata": {},
     "output_type": "execute_result"
    }
   ],
   "source": [
    "(1922 + 184) / 2500"
   ]
  },
  {
   "cell_type": "code",
   "execution_count": null,
   "metadata": {
    "collapsed": true
   },
   "outputs": [],
   "source": []
  }
 ],
 "metadata": {
  "kernelspec": {
   "display_name": "Python 3",
   "language": "python",
   "name": "python3"
  },
  "language_info": {
   "codemirror_mode": {
    "name": "ipython",
    "version": 3
   },
   "file_extension": ".py",
   "mimetype": "text/x-python",
   "name": "python",
   "nbconvert_exporter": "python",
   "pygments_lexer": "ipython3",
   "version": "3.5.3"
  }
 },
 "nbformat": 4,
 "nbformat_minor": 2
}
